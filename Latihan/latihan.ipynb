{
 "cells": [
  {
   "cell_type": "markdown",
   "id": "1557f03e-64f3-4065-a61d-3f53a3c9cf78",
   "metadata": {},
   "source": [
    "Latihan"
   ]
  },
  {
   "cell_type": "code",
   "execution_count": 2,
   "id": "3d15dcbb-c0ac-41a5-ae20-d895264df23c",
   "metadata": {},
   "outputs": [],
   "source": [
    "level = {\n",
    "    'intern': {\n",
    "        'bonus': 5\n",
    "    },\n",
    "    'staff': {\n",
    "        'bonus': 10\n",
    "    },\n",
    "    'manager': {\n",
    "        'bonus': 15\n",
    "    },\n",
    "    'director': {\n",
    "        'bonus': 20\n",
    "    }\n",
    "}\n",
    "\n",
    "employee_data = [\n",
    "    {\n",
    "        'name': 'Rudi',\n",
    "        'level': 'staff',\n",
    "        'salary': 7500000\n",
    "    },\n",
    "    {\n",
    "        'name': 'Rita',\n",
    "        'level': 'intern',\n",
    "        'salary': 1000000\n",
    "    },\n",
    "    {\n",
    "        'name': 'Asep',\n",
    "        'level': 'manager',\n",
    "        'salary': 12000000\n",
    "    },\n",
    "    {\n",
    "        'name': 'Ricky',\n",
    "        'level': 'manager',\n",
    "        'salary': 13500000\n",
    "    },\n",
    "    {\n",
    "        'name': 'Lisa',\n",
    "        'level': 'staff',\n",
    "        'salary': 8500000\n",
    "    },\n",
    "    {\n",
    "        'name': 'Imam',\n",
    "        'level': 'intern',\n",
    "        'salary': 1050000\n",
    "    },\n",
    "    {\n",
    "        'name': 'Haryo',\n",
    "        'level': 'director',\n",
    "        'salary': 35000000\n",
    "    }\n",
    "]"
   ]
  },
  {
   "cell_type": "code",
   "execution_count": 3,
   "id": "5c58bc1f-07dc-4496-ba0c-2c88eaee66b8",
   "metadata": {},
   "outputs": [],
   "source": [
    "# expected result\n",
    "# based on level\n",
    "# bonus = salary * bonus/100\n",
    "\n",
    "# employee_bonus = { \n",
    "#     'Rudi': 750000,\n",
    "#     'Rita': 50000\n",
    "#     ...\n",
    "# }"
   ]
  },
  {
   "cell_type": "code",
   "execution_count": 5,
   "id": "473eb147-022d-4cee-a39c-bf37fbdec9fa",
   "metadata": {},
   "outputs": [
    {
     "name": "stdout",
     "output_type": "stream",
     "text": [
      "{'Rudi': 750000.0, 'Rita': 50000.0, 'Asep': 1800000.0, 'Ricky': 2025000.0, 'Lisa': 850000.0, 'Imam': 52500.0, 'Haryo': 7000000.0}\n"
     ]
    }
   ],
   "source": [
    "def calculate_employee_bonuses(employee_data, level_data):\n",
    "    employee_bonus = {}\n",
    "    \n",
    "    for employee in employee_data:\n",
    "        name = employee['name']\n",
    "        emp_level = employee['level']\n",
    "        salary = employee['salary']\n",
    "        bonus_percentage = level_data[emp_level]['bonus']\n",
    "        bonus = salary * bonus_percentage / 100\n",
    "        employee_bonus[name] = bonus\n",
    "    \n",
    "    return employee_bonus\n",
    "\n",
    "# Contoh penggunaan fungsi (misal data berasal dari input pengguna atau sumber eksternal):\n",
    "bonuses = calculate_employee_bonuses(employee_data, level)\n",
    "print(bonuses)\n"
   ]
  },
  {
   "cell_type": "code",
   "execution_count": null,
   "id": "61537a33-65c1-4fe5-b19f-d0cdb838bf12",
   "metadata": {},
   "outputs": [],
   "source": []
  }
 ],
 "metadata": {
  "kernelspec": {
   "display_name": "Python 3 (ipykernel)",
   "language": "python",
   "name": "python3"
  },
  "language_info": {
   "codemirror_mode": {
    "name": "ipython",
    "version": 3
   },
   "file_extension": ".py",
   "mimetype": "text/x-python",
   "name": "python",
   "nbconvert_exporter": "python",
   "pygments_lexer": "ipython3",
   "version": "3.12.6"
  }
 },
 "nbformat": 4,
 "nbformat_minor": 5
}
